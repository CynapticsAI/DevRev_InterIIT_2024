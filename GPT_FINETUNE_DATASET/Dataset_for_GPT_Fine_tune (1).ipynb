{
  "cells": [
    {
      "cell_type": "markdown",
      "metadata": {
        "id": "3C2l5wTrOOf3"
      },
      "source": [
        "###This notebook generates examples for dataset generation for GPT finetune using claude 2.1 model\n",
        "\n",
        "\n",
        "\n"
      ]
    },
    {
      "cell_type": "markdown",
      "metadata": {
        "id": "kKxH0F7vOzIh"
      },
      "source": [
        "##How to run\n",
        "\n",
        "- Run the client intialisation and prompt generation function section\n",
        "- Run generation section for generation of examples"
      ]
    },
    {
      "cell_type": "markdown",
      "metadata": {
        "id": "t9GQxa8_N_zC"
      },
      "source": [
        "#Client Initialisation and Prompt Generation Functions"
      ]
    },
    {
      "cell_type": "code",
      "execution_count": null,
      "metadata": {
        "id": "7WwUJEa3nOd6"
      },
      "outputs": [],
      "source": [
        "!pip install anthropic"
      ]
    },
    {
      "cell_type": "code",
      "execution_count": null,
      "metadata": {
        "id": "MPhFJYNqnjCP"
      },
      "outputs": [],
      "source": [
        "from anthropic import Anthropic, HUMAN_PROMPT, AI_PROMPT\n",
        "import json"
      ]
    },
    {
      "cell_type": "code",
      "execution_count": null,
      "metadata": {
        "id": "t9YeYFdinzgx"
      },
      "outputs": [],
      "source": [
        "ANTHROPIC_API_KEY=\"your api key\""
      ]
    },
    {
      "cell_type": "code",
      "execution_count": null,
      "metadata": {
        "id": "bWWlZ7vpoal0"
      },
      "outputs": [],
      "source": [
        "def create_prompt(human, ai, tools, example1, example2, example3):\n",
        "    prompt = \"\"\"\n",
        "{0}: In this environment you have a set of tools, given few example queries and respective answers, generate queries and respective answers.\n",
        "Here are the tools available:\n",
        "<tools>\n",
        "{2}\n",
        "</tools>\n",
        "Here are some examples:\n",
        "{3}\n",
        "{4}\n",
        "{5}\n",
        "\n",
        "Generate 5 complicated query and answer in JSON format wrapped in ```json...```\n",
        "You are using 'whoami' which doesn't exists use 'who_am_i'\n",
        "\n",
        "Assistant:\n",
        "    \"\"\".format(human, ai, tools, example1, example2, example3)\n",
        "    return prompt"
      ]
    },
    {
      "cell_type": "code",
      "execution_count": null,
      "metadata": {
        "id": "EU-qpdHe9sTK"
      },
      "outputs": [],
      "source": [
        "def single_use_prompt_wa(human, ai, tools):\n",
        "    prompt = \"\"\"\n",
        "In this environment you are given a tool and you need to generate certain queries that can be solved using the given tool, the queries should be in natural language given by a general user who might not know about technology.\n",
        "Here are the tool available:\n",
        "<tool>\n",
        "{2}\n",
        "</tool>\n",
        "\n",
        "{0}: Generate 1 query and the respective tool usage in JSON format specified below.\n",
        "{{\n",
        "  \"tool_name\": \"...\",\n",
        "  \"arguments\": [\n",
        "    {{\n",
        "      \"argument_name\": \"...\",\n",
        "      \"argument_value\": \"...\" (based on argument type in the tool)\n",
        "    }},\n",
        "    ...\n",
        "  ]\n",
        "}}\n",
        "You need to wrap the query in <query></query>.\n",
        "You need to wrap the tool usage in <tooluse></tooluse>\n",
        "You need to give the tool use in JSON.\n",
        "\n",
        "{1}:\n",
        "    \"\"\".format(human, ai, tools)\n",
        "    return prompt"
      ]
    },
    {
      "cell_type": "code",
      "execution_count": null,
      "metadata": {
        "id": "XA9aKWVOqqMM"
      },
      "outputs": [],
      "source": [
        "def read_file(path):\n",
        "    with open(path, 'r') as f:\n",
        "        file = json.load(f)\n",
        "    return file"
      ]
    },
    {
      "cell_type": "code",
      "execution_count": null,
      "metadata": {
        "id": "R23xxQkiquRS"
      },
      "outputs": [],
      "source": [
        "!wget -O tools.json \"https://drive.google.com/file/d/1RSC_94KKmvtWnI15RVZkLCy4eTVhxGU_/view?usp=sharing\"\n",
        "!wget -O examples.json \"https://drive.google.com/file/d/1n9eede9tNiqfPfWyc3lx1AHgqJgxLFQ5/view?usp=drive_link\"\n",
        "with open('./content/examples.json', 'r') as f:\n",
        "    examples = json.load(f)\n",
        "\n",
        "with open('/content/tools.json', 'r') as f:\n",
        "    tools = json.load(f)"
      ]
    },
    {
      "cell_type": "code",
      "execution_count": null,
      "metadata": {
        "id": "JQis79OMuRDq"
      },
      "outputs": [],
      "source": [
        "anthropic = Anthropic(api_key=ANTHROPIC_API_KEY)"
      ]
    },
    {
      "cell_type": "markdown",
      "metadata": {
        "id": "XeWnxY44fW_l"
      },
      "source": [
        "#Multi Tool Example Generation"
      ]
    },
    {
      "cell_type": "code",
      "execution_count": null,
      "metadata": {
        "id": "QA5WS4Zzk3CZ"
      },
      "outputs": [],
      "source": [
        "res = anthropic.completions.create(prompt = create_prompt(anthropic.HUMAN_PROMPT, anthropic.AI_PROMPT, tools['tools'], examples[5], examples[6], examples[2]), model=\"claude-2.1\", temperature = 0.5, max_tokens_to_sample=1800)"
      ]
    },
    {
      "cell_type": "code",
      "execution_count": null,
      "metadata": {
        "id": "Uf_9RTftl8sq"
      },
      "outputs": [],
      "source": [
        "res.completion"
      ]
    },
    {
      "cell_type": "markdown",
      "metadata": {
        "id": "iV_DPPNtLVYl"
      },
      "source": [
        "#Single Tool Example Generation"
      ]
    },
    {
      "cell_type": "code",
      "execution_count": null,
      "metadata": {
        "id": "-g-IAYlxjhXx"
      },
      "outputs": [],
      "source": [
        "tool_queries = []\n",
        "for tool in tools['tools']:\n",
        "  res = anthropic.completions.create(prompt = single_use_prompt_wa(anthropic.HUMAN_PROMPT, anthropic.AI_PROMPT, tool), model=\"claude-2.1\", temperature = 0.4, max_tokens_to_sample=200)\n",
        "  tool_queries.append(res.completion)\n",
        "  print(res.completion)"
      ]
    }
  ],
  "metadata": {
    "accelerator": "GPU",
    "colab": {
      "collapsed_sections": [
        "w3N5UwO0K08I"
      ],
      "gpuType": "T4",
      "provenance": []
    },
    "kernelspec": {
      "display_name": "Python 3",
      "name": "python3"
    },
    "language_info": {
      "name": "python"
    }
  },
  "nbformat": 4,
  "nbformat_minor": 0
}
